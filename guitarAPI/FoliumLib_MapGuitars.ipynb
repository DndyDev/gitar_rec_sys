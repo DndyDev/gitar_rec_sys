{
 "nbformat": 4,
 "nbformat_minor": 0,
 "metadata": {
  "kernelspec": {
   "display_name": "Python 3",
   "language": "python",
   "name": "python3"
  },
  "language_info": {
   "codemirror_mode": {
    "name": "ipython",
    "version": 3
   },
   "file_extension": ".py",
   "mimetype": "text/x-python",
   "name": "python",
   "nbconvert_exporter": "python",
   "pygments_lexer": "ipython3",
   "version": "3.6.0"
  },
  "colab": {
   "name": "Untitled15.ipynb",
   "provenance": [],
   "collapsed_sections": []
  }
 },
 "cells": [
  {
   "cell_type": "code",
   "metadata": {
    "collapsed": true,
    "id": "7OhH3pQwz0Wa",
    "executionInfo": {
     "status": "ok",
     "timestamp": 1609151179714,
     "user_tz": -180,
     "elapsed": 948,
     "user": {
      "displayName": "Сергей Тихомиров",
      "photoUrl": "https://lh3.googleusercontent.com/a-/AOh14GiKOM81cKPdANBw1rh5vujL7fV44S2fQpi8KdKVWA=s64",
      "userId": "02919732891602555765"
     }
    }
   },
   "source": [
    "import folium"
   ],
   "execution_count": 10,
   "outputs": []
  },
  {
   "cell_type": "code",
   "metadata": {
    "id": "jUcuzRDCz0Wh",
    "executionInfo": {
     "status": "ok",
     "timestamp": 1609151180112,
     "user_tz": -180,
     "elapsed": 1315,
     "user": {
      "displayName": "Сергей Тихомиров",
      "photoUrl": "https://lh3.googleusercontent.com/a-/AOh14GiKOM81cKPdANBw1rh5vujL7fV44S2fQpi8KdKVWA=s64",
      "userId": "02919732891602555765"
     }
    }
   },
   "source": [
    "folium_map=folium.Map(location=[55.7904,49.1213],zoom_start=10, tiles=\"OpenStreetMap\")"
   ],
   "execution_count": 11,
   "outputs": []
  },
  {
   "cell_type": "code",
   "metadata": {
    "colab": {
     "base_uri": "https://localhost:8080/"
    },
    "id": "AcoRIFEjz0Wm",
    "executionInfo": {
     "status": "ok",
     "timestamp": 1609151180116,
     "user_tz": -180,
     "elapsed": 1294,
     "user": {
      "displayName": "Сергей Тихомиров",
      "photoUrl": "https://lh3.googleusercontent.com/a-/AOh14GiKOM81cKPdANBw1rh5vujL7fV44S2fQpi8KdKVWA=s64",
      "userId": "02919732891602555765"
     }
    },
    "outputId": "ce9873fb-8bd0-4cd8-94f2-e48beb5761a0"
   },
   "source": [
    "folium.Marker([55.837035528049526, 49.0795868834611],popup=\"GC Alhambra\",tooltip=\"Here will help you find a guitar for you\").add_to(folium_map)\n",
    "folium.Marker([55.789623355024354, 49.156236140232856],popup=\"Mustorg\",tooltip=\"Guitars store\").add_to(folium_map)"
   ],
   "execution_count": 12,
   "outputs": [
    {
     "data": {
      "text/plain": "<folium.map.Marker at 0x19f076fca88>"
     },
     "execution_count": 12,
     "metadata": {},
     "output_type": "execute_result"
    }
   ]
  },
  {
   "cell_type": "code",
   "metadata": {
    "colab": {
     "base_uri": "https://localhost:8080/",
     "height": 763
    },
    "id": "8rUDNMl2z0Wo",
    "executionInfo": {
     "status": "ok",
     "timestamp": 1609151180131,
     "user_tz": -180,
     "elapsed": 1285,
     "user": {
      "displayName": "Сергей Тихомиров",
      "photoUrl": "https://lh3.googleusercontent.com/a-/AOh14GiKOM81cKPdANBw1rh5vujL7fV44S2fQpi8KdKVWA=s64",
      "userId": "02919732891602555765"
     }
    },
    "outputId": "00be5413-4186-4e27-af99-72136c8f668c"
   },
   "source": [
    "folium_map"
   ],
   "execution_count": 13,
   "outputs": [
    {
     "data": {
      "text/plain": "<folium.folium.Map at 0x19f076f7848>",
      "text/html": "<div style=\"width:100%;\"><div style=\"position:relative;width:100%;height:0;padding-bottom:60%;\"><span style=\"color:#565656\">Make this Notebook Trusted to load map: File -> Trust Notebook</span><iframe src=\"about:blank\" style=\"position:absolute;width:100%;height:100%;left:0;top:0;border:none !important;\" data-html=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 onload=\"this.contentDocument.open();this.contentDocument.write(atob(this.getAttribute('data-html')));this.contentDocument.close();\" allowfullscreen webkitallowfullscreen mozallowfullscreen></iframe></div></div>"
     },
     "execution_count": 13,
     "metadata": {},
     "output_type": "execute_result"
    }
   ]
  },
  {
   "cell_type": "code",
   "metadata": {
    "collapsed": true,
    "id": "qm7vRS7iz0Wp",
    "executionInfo": {
     "status": "ok",
     "timestamp": 1609151218268,
     "user_tz": -180,
     "elapsed": 1151,
     "user": {
      "displayName": "Сергей Тихомиров",
      "photoUrl": "https://lh3.googleusercontent.com/a-/AOh14GiKOM81cKPdANBw1rh5vujL7fV44S2fQpi8KdKVWA=s64",
      "userId": "02919732891602555765"
     }
    }
   },
   "source": [
    "folium_map.save('../templates/guitarMap.html')"
   ],
   "execution_count": 17,
   "outputs": []
  }
 ]
}